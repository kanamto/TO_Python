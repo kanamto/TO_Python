{
 "cells": [
  {
   "cell_type": "code",
   "execution_count": 19,
   "metadata": {
    "collapsed": false
   },
   "outputs": [],
   "source": [
    "#HW3, Problem 1\n",
    "\n",
    "def histogram(list):\n",
    "    '''Prints asterisks equal to values in list.\n",
    "    \n",
    "     The items in list must be integers.'''\n",
    "    for item in list: #For each item\n",
    "        print(item*\"*\") #the function prints the amount of stars based on the item's integer value.\n",
    "        \"\\n\"            #The next output is printed on a new line.  \n",
    "        \n",
    "histogram([1,2,3])\n",
    "help(histogram)"
   ]
  },
  {
   "cell_type": "code",
   "execution_count": 93,
   "metadata": {
    "collapsed": false
   },
   "outputs": [
    {
     "name": "stdout",
     "output_type": "stream",
     "text": [
      "5\n"
     ]
    }
   ],
   "source": [
    "#HW3, Problem 2\n",
    "\n",
    "def max_in_list(list):\n",
    "    '''Returns the maximum value of a list.\n",
    "    \n",
    "    Takes list (of integers) and returns an integer. The items in list must be integers.'''\n",
    "    result = list[0]      #Set the first item in list as the max\n",
    "    for each in list:     #For each item in list\n",
    "        if each > result: #If each item is greater than current result...\n",
    "            result = each #...then set the max to the current item.\n",
    "    return result         #After each value is compared, the max should be stored in result variable.\n",
    "    \n",
    "print(max_in_list([-1111,5,4,-78,2]))"
   ]
  },
  {
   "cell_type": "code",
   "execution_count": 17,
   "metadata": {
    "collapsed": false
   },
   "outputs": [
    {
     "data": {
      "text/plain": [
       "[5, 3, 7]"
      ]
     },
     "execution_count": 17,
     "metadata": {},
     "output_type": "execute_result"
    }
   ],
   "source": [
    "#HW3, Problem 3\n",
    "\n",
    "def mapping(list):\n",
    "    '''Maps a list of character strings into a list of integers. \n",
    "    \n",
    "    Takes list (of strings) input and returns list (of integers). The each integer corresponds to length of string in the original list.'''\n",
    "    result = []             #Initialize a empty list to map to.\n",
    "    for each in list:       #For each string in the list of strings...\n",
    "        i = 0               #Start a counter of how many letters are in the string\n",
    "        for letter in each: #For each character in each string,  \n",
    "            i+=1            #increase the counter by 1\n",
    "        result.append(i)    #When each character is counted, add that number to the new list \n",
    "    return result\n",
    "\n",
    "mapping([\"hello\", \"bye\", \"morning\"])"
   ]
  },
  {
   "cell_type": "code",
   "execution_count": 8,
   "metadata": {
    "collapsed": false
   },
   "outputs": [
    {
     "name": "stdout",
     "output_type": "stream",
     "text": [
      "7\n"
     ]
    }
   ],
   "source": [
    "#HW3, Problem 4\n",
    "\n",
    "def ind_longest_word(list):\n",
    "    '''Returns the length of the longest word in a list.\n",
    "    \n",
    "    Takes list input and returns integer. Combines mapping() and max_in_list() functions.'''\n",
    "    return max_in_list(mapping(list)) #After mapping a list of words to list of lengths, find the max length (integer) \n",
    "\n"
   ]
  },
  {
   "cell_type": "code",
   "execution_count": 18,
   "metadata": {
    "collapsed": false
   },
   "outputs": [
    {
     "data": {
      "text/plain": [
       "['morning']"
      ]
     },
     "execution_count": 18,
     "metadata": {},
     "output_type": "execute_result"
    }
   ],
   "source": [
    "#HW3, Problem 5\n",
    "\n",
    "def filter_long_word(list,n):\n",
    "    '''Returns a list with strings of minimum length n.\n",
    "    \n",
    "    Takes a list (of strings) and returns a list (of strings). Uses mapping() output and compare against n.'''\n",
    "    result = []                     #Initialize blank output list\n",
    "    i = 0                           #Initialize a counter to reference indexed value of the list of words\n",
    "    for each in mapping(list):      #For each item (which will be integers) in the output of mapping()..\n",
    "        if each > n:                #if each integer is greater than n,\n",
    "            result.append(list[i])  #then append the indexed word to the result list.\n",
    "        i +=1                       #Increase the counter to next indexed word to corresponded to the next integer in the for loop\n",
    "    return result\n",
    "\n",
    "filter_long_word([\"hello\", \"bye\", \"morning\"],6)"
   ]
  },
  {
   "cell_type": "code",
   "execution_count": 30,
   "metadata": {
    "collapsed": false
   },
   "outputs": [
    {
     "name": "stdout",
     "output_type": "stream",
     "text": [
      "True\n"
     ]
    }
   ],
   "source": [
    "#HW3, Problem 6\n",
    "\n",
    "def palindrome2(string):\n",
    "    '''Returns True or False depending on recognition of a Palindrome.\n",
    "    \n",
    "    Takes string input and returns boolean. This function ignores punctuation, capitalization, and spacing.'''\n",
    "    lowercase_string = string.lower()       #Make all capitalized characters lower case. This function has no effect on symbols.\n",
    "    original = \"\"                           #Initialize empty string for original string with punctuation and spacing. \n",
    "    reverse = \"\"                            #Initialize empty string for reverse of original string variable.\n",
    "    alphabet = \"qwertyuiopasdfghjklzxcvbnm\" #Assign complete alphabet (as a string) to variable  \n",
    "    for char in lowercase_string:           #For each char in lower case version of sentence,\n",
    "        for letter in alphabet:              #and for each letter in the alphabet,\n",
    "            if char == letter:                #if character and letter are the same (basically, if character is a letter),\n",
    "                original += char                #update the original string with that letter.\n",
    "                                            #At the end of for loop, only alphabet characters of the string remain.\n",
    "    b = len(original)-1         #Set counter to 1 less than the length (last indexed position of the string)\n",
    "    while b+1 > 0:              #While loop to cycle through each letter of original string (backwards). \n",
    "        reverse += original[b]  #Update reverse string with original string characters backwards (starting at the last position)\n",
    "        b-=1                    #Update counter to one in front of the last character (and so on)\n",
    "    if original == reverse:   #If reverse is identical to original string, then return true (is a palindrome)\n",
    "        return True\n",
    "    else:                  #If not, return false (not a palindrome)\n",
    "        return False\n",
    "\n",
    "print(palindrome2(\"Dammit, Im mad!       \"))\n",
    "            "
   ]
  },
  {
   "cell_type": "code",
   "execution_count": 1,
   "metadata": {
    "collapsed": false
   },
   "outputs": [
    {
     "name": "stdout",
     "output_type": "stream",
     "text": [
      "True\n"
     ]
    }
   ],
   "source": [
    "#HW3, Problem 7\n",
    "\n",
    "def pangram(string):\n",
    "    '''Returns True or False depending on recognition of a pangram.\n",
    "    \n",
    "    Takes string input and returns boolean. This function ignores punctuation, capitalization, and spacing.'''\n",
    "    string = string.lower()                  #Make all capitalized characters lower case. This function has no effect on symbols.\n",
    "    result = 0                               #Result is set to false (0) until proven otherwise \n",
    "    alphabet = \"qwertyuiopasdfghjklzxcvbnm\"  #Assign complete alphabet as a string to variable\n",
    "    for letter in alphabet:                    #For each letter in the alphabet string,\n",
    "        if letter in string:                    #if that letter is in the sentence,\n",
    "            result += 1                        #then update the counter by 1.\n",
    "        else:                                 #otherwise (if alphabet character in not in the sentence, it is not a pangram.\n",
    "            return False\n",
    "    if result == 26:                         #If the result = 26 (because each letter of the alphabet is counted once), then it is a pangram.\n",
    "        return True\n",
    "\n",
    "print(pangram(\"The quick brown fox jumps over the lazy dog.\"))"
   ]
  },
  {
   "cell_type": "code",
   "execution_count": 4,
   "metadata": {
    "collapsed": false
   },
   "outputs": [
    {
     "name": "stdout",
     "output_type": "stream",
     "text": [
      "99 bottles of coke on the wall, 99 bottles of coke. \n",
      "Take one down, pass it around, 98 bottles of coke on the wall. \n",
      "\n",
      "98 bottles of coke on the wall, 98 bottles of coke. \n",
      "Take one down, pass it around, 97 bottles of coke on the wall. \n",
      "\n",
      "97 bottles of coke on the wall, 97 bottles of coke. \n",
      "Take one down, pass it around, 96 bottles of coke on the wall. \n",
      "\n",
      "96 bottles of coke on the wall, 96 bottles of coke. \n",
      "Take one down, pass it around, 95 bottles of coke on the wall. \n",
      "\n",
      "95 bottles of coke on the wall, 95 bottles of coke. \n",
      "Take one down, pass it around, 94 bottles of coke on the wall. \n",
      "\n",
      "94 bottles of coke on the wall, 94 bottles of coke. \n",
      "Take one down, pass it around, 93 bottles of coke on the wall. \n",
      "\n",
      "93 bottles of coke on the wall, 93 bottles of coke. \n",
      "Take one down, pass it around, 92 bottles of coke on the wall. \n",
      "\n",
      "92 bottles of coke on the wall, 92 bottles of coke. \n",
      "Take one down, pass it around, 91 bottles of coke on the wall. \n",
      "\n",
      "91 bottles of coke on the wall, 91 bottles of coke. \n",
      "Take one down, pass it around, 90 bottles of coke on the wall. \n",
      "\n",
      "90 bottles of coke on the wall, 90 bottles of coke. \n",
      "Take one down, pass it around, 89 bottles of coke on the wall. \n",
      "\n",
      "89 bottles of coke on the wall, 89 bottles of coke. \n",
      "Take one down, pass it around, 88 bottles of coke on the wall. \n",
      "\n",
      "88 bottles of coke on the wall, 88 bottles of coke. \n",
      "Take one down, pass it around, 87 bottles of coke on the wall. \n",
      "\n",
      "87 bottles of coke on the wall, 87 bottles of coke. \n",
      "Take one down, pass it around, 86 bottles of coke on the wall. \n",
      "\n",
      "86 bottles of coke on the wall, 86 bottles of coke. \n",
      "Take one down, pass it around, 85 bottles of coke on the wall. \n",
      "\n",
      "85 bottles of coke on the wall, 85 bottles of coke. \n",
      "Take one down, pass it around, 84 bottles of coke on the wall. \n",
      "\n",
      "84 bottles of coke on the wall, 84 bottles of coke. \n",
      "Take one down, pass it around, 83 bottles of coke on the wall. \n",
      "\n",
      "83 bottles of coke on the wall, 83 bottles of coke. \n",
      "Take one down, pass it around, 82 bottles of coke on the wall. \n",
      "\n",
      "82 bottles of coke on the wall, 82 bottles of coke. \n",
      "Take one down, pass it around, 81 bottles of coke on the wall. \n",
      "\n",
      "81 bottles of coke on the wall, 81 bottles of coke. \n",
      "Take one down, pass it around, 80 bottles of coke on the wall. \n",
      "\n",
      "80 bottles of coke on the wall, 80 bottles of coke. \n",
      "Take one down, pass it around, 79 bottles of coke on the wall. \n",
      "\n",
      "79 bottles of coke on the wall, 79 bottles of coke. \n",
      "Take one down, pass it around, 78 bottles of coke on the wall. \n",
      "\n",
      "78 bottles of coke on the wall, 78 bottles of coke. \n",
      "Take one down, pass it around, 77 bottles of coke on the wall. \n",
      "\n",
      "77 bottles of coke on the wall, 77 bottles of coke. \n",
      "Take one down, pass it around, 76 bottles of coke on the wall. \n",
      "\n",
      "76 bottles of coke on the wall, 76 bottles of coke. \n",
      "Take one down, pass it around, 75 bottles of coke on the wall. \n",
      "\n",
      "75 bottles of coke on the wall, 75 bottles of coke. \n",
      "Take one down, pass it around, 74 bottles of coke on the wall. \n",
      "\n",
      "74 bottles of coke on the wall, 74 bottles of coke. \n",
      "Take one down, pass it around, 73 bottles of coke on the wall. \n",
      "\n",
      "73 bottles of coke on the wall, 73 bottles of coke. \n",
      "Take one down, pass it around, 72 bottles of coke on the wall. \n",
      "\n",
      "72 bottles of coke on the wall, 72 bottles of coke. \n",
      "Take one down, pass it around, 71 bottles of coke on the wall. \n",
      "\n",
      "71 bottles of coke on the wall, 71 bottles of coke. \n",
      "Take one down, pass it around, 70 bottles of coke on the wall. \n",
      "\n",
      "70 bottles of coke on the wall, 70 bottles of coke. \n",
      "Take one down, pass it around, 69 bottles of coke on the wall. \n",
      "\n",
      "69 bottles of coke on the wall, 69 bottles of coke. \n",
      "Take one down, pass it around, 68 bottles of coke on the wall. \n",
      "\n",
      "68 bottles of coke on the wall, 68 bottles of coke. \n",
      "Take one down, pass it around, 67 bottles of coke on the wall. \n",
      "\n",
      "67 bottles of coke on the wall, 67 bottles of coke. \n",
      "Take one down, pass it around, 66 bottles of coke on the wall. \n",
      "\n",
      "66 bottles of coke on the wall, 66 bottles of coke. \n",
      "Take one down, pass it around, 65 bottles of coke on the wall. \n",
      "\n",
      "65 bottles of coke on the wall, 65 bottles of coke. \n",
      "Take one down, pass it around, 64 bottles of coke on the wall. \n",
      "\n",
      "64 bottles of coke on the wall, 64 bottles of coke. \n",
      "Take one down, pass it around, 63 bottles of coke on the wall. \n",
      "\n",
      "63 bottles of coke on the wall, 63 bottles of coke. \n",
      "Take one down, pass it around, 62 bottles of coke on the wall. \n",
      "\n",
      "62 bottles of coke on the wall, 62 bottles of coke. \n",
      "Take one down, pass it around, 61 bottles of coke on the wall. \n",
      "\n",
      "61 bottles of coke on the wall, 61 bottles of coke. \n",
      "Take one down, pass it around, 60 bottles of coke on the wall. \n",
      "\n",
      "60 bottles of coke on the wall, 60 bottles of coke. \n",
      "Take one down, pass it around, 59 bottles of coke on the wall. \n",
      "\n",
      "59 bottles of coke on the wall, 59 bottles of coke. \n",
      "Take one down, pass it around, 58 bottles of coke on the wall. \n",
      "\n",
      "58 bottles of coke on the wall, 58 bottles of coke. \n",
      "Take one down, pass it around, 57 bottles of coke on the wall. \n",
      "\n",
      "57 bottles of coke on the wall, 57 bottles of coke. \n",
      "Take one down, pass it around, 56 bottles of coke on the wall. \n",
      "\n",
      "56 bottles of coke on the wall, 56 bottles of coke. \n",
      "Take one down, pass it around, 55 bottles of coke on the wall. \n",
      "\n",
      "55 bottles of coke on the wall, 55 bottles of coke. \n",
      "Take one down, pass it around, 54 bottles of coke on the wall. \n",
      "\n",
      "54 bottles of coke on the wall, 54 bottles of coke. \n",
      "Take one down, pass it around, 53 bottles of coke on the wall. \n",
      "\n",
      "53 bottles of coke on the wall, 53 bottles of coke. \n",
      "Take one down, pass it around, 52 bottles of coke on the wall. \n",
      "\n",
      "52 bottles of coke on the wall, 52 bottles of coke. \n",
      "Take one down, pass it around, 51 bottles of coke on the wall. \n",
      "\n",
      "51 bottles of coke on the wall, 51 bottles of coke. \n",
      "Take one down, pass it around, 50 bottles of coke on the wall. \n",
      "\n",
      "50 bottles of coke on the wall, 50 bottles of coke. \n",
      "Take one down, pass it around, 49 bottles of coke on the wall. \n",
      "\n",
      "49 bottles of coke on the wall, 49 bottles of coke. \n",
      "Take one down, pass it around, 48 bottles of coke on the wall. \n",
      "\n",
      "48 bottles of coke on the wall, 48 bottles of coke. \n",
      "Take one down, pass it around, 47 bottles of coke on the wall. \n",
      "\n",
      "47 bottles of coke on the wall, 47 bottles of coke. \n",
      "Take one down, pass it around, 46 bottles of coke on the wall. \n",
      "\n",
      "46 bottles of coke on the wall, 46 bottles of coke. \n",
      "Take one down, pass it around, 45 bottles of coke on the wall. \n",
      "\n",
      "45 bottles of coke on the wall, 45 bottles of coke. \n",
      "Take one down, pass it around, 44 bottles of coke on the wall. \n",
      "\n",
      "44 bottles of coke on the wall, 44 bottles of coke. \n",
      "Take one down, pass it around, 43 bottles of coke on the wall. \n",
      "\n",
      "43 bottles of coke on the wall, 43 bottles of coke. \n",
      "Take one down, pass it around, 42 bottles of coke on the wall. \n",
      "\n",
      "42 bottles of coke on the wall, 42 bottles of coke. \n",
      "Take one down, pass it around, 41 bottles of coke on the wall. \n",
      "\n",
      "41 bottles of coke on the wall, 41 bottles of coke. \n",
      "Take one down, pass it around, 40 bottles of coke on the wall. \n",
      "\n",
      "40 bottles of coke on the wall, 40 bottles of coke. \n",
      "Take one down, pass it around, 39 bottles of coke on the wall. \n",
      "\n",
      "39 bottles of coke on the wall, 39 bottles of coke. \n",
      "Take one down, pass it around, 38 bottles of coke on the wall. \n",
      "\n",
      "38 bottles of coke on the wall, 38 bottles of coke. \n",
      "Take one down, pass it around, 37 bottles of coke on the wall. \n",
      "\n",
      "37 bottles of coke on the wall, 37 bottles of coke. \n",
      "Take one down, pass it around, 36 bottles of coke on the wall. \n",
      "\n",
      "36 bottles of coke on the wall, 36 bottles of coke. \n",
      "Take one down, pass it around, 35 bottles of coke on the wall. \n",
      "\n",
      "35 bottles of coke on the wall, 35 bottles of coke. \n",
      "Take one down, pass it around, 34 bottles of coke on the wall. \n",
      "\n",
      "34 bottles of coke on the wall, 34 bottles of coke. \n",
      "Take one down, pass it around, 33 bottles of coke on the wall. \n",
      "\n",
      "33 bottles of coke on the wall, 33 bottles of coke. \n",
      "Take one down, pass it around, 32 bottles of coke on the wall. \n",
      "\n",
      "32 bottles of coke on the wall, 32 bottles of coke. \n",
      "Take one down, pass it around, 31 bottles of coke on the wall. \n",
      "\n",
      "31 bottles of coke on the wall, 31 bottles of coke. \n",
      "Take one down, pass it around, 30 bottles of coke on the wall. \n",
      "\n",
      "30 bottles of coke on the wall, 30 bottles of coke. \n",
      "Take one down, pass it around, 29 bottles of coke on the wall. \n",
      "\n",
      "29 bottles of coke on the wall, 29 bottles of coke. \n",
      "Take one down, pass it around, 28 bottles of coke on the wall. \n",
      "\n",
      "28 bottles of coke on the wall, 28 bottles of coke. \n",
      "Take one down, pass it around, 27 bottles of coke on the wall. \n",
      "\n",
      "27 bottles of coke on the wall, 27 bottles of coke. \n",
      "Take one down, pass it around, 26 bottles of coke on the wall. \n",
      "\n",
      "26 bottles of coke on the wall, 26 bottles of coke. \n",
      "Take one down, pass it around, 25 bottles of coke on the wall. \n",
      "\n",
      "25 bottles of coke on the wall, 25 bottles of coke. \n",
      "Take one down, pass it around, 24 bottles of coke on the wall. \n",
      "\n",
      "24 bottles of coke on the wall, 24 bottles of coke. \n",
      "Take one down, pass it around, 23 bottles of coke on the wall. \n",
      "\n",
      "23 bottles of coke on the wall, 23 bottles of coke. \n",
      "Take one down, pass it around, 22 bottles of coke on the wall. \n",
      "\n",
      "22 bottles of coke on the wall, 22 bottles of coke. \n",
      "Take one down, pass it around, 21 bottles of coke on the wall. \n",
      "\n",
      "21 bottles of coke on the wall, 21 bottles of coke. \n",
      "Take one down, pass it around, 20 bottles of coke on the wall. \n",
      "\n",
      "20 bottles of coke on the wall, 20 bottles of coke. \n",
      "Take one down, pass it around, 19 bottles of coke on the wall. \n",
      "\n",
      "19 bottles of coke on the wall, 19 bottles of coke. \n",
      "Take one down, pass it around, 18 bottles of coke on the wall. \n",
      "\n",
      "18 bottles of coke on the wall, 18 bottles of coke. \n",
      "Take one down, pass it around, 17 bottles of coke on the wall. \n",
      "\n",
      "17 bottles of coke on the wall, 17 bottles of coke. \n",
      "Take one down, pass it around, 16 bottles of coke on the wall. \n",
      "\n",
      "16 bottles of coke on the wall, 16 bottles of coke. \n",
      "Take one down, pass it around, 15 bottles of coke on the wall. \n",
      "\n",
      "15 bottles of coke on the wall, 15 bottles of coke. \n",
      "Take one down, pass it around, 14 bottles of coke on the wall. \n",
      "\n",
      "14 bottles of coke on the wall, 14 bottles of coke. \n",
      "Take one down, pass it around, 13 bottles of coke on the wall. \n",
      "\n",
      "13 bottles of coke on the wall, 13 bottles of coke. \n",
      "Take one down, pass it around, 12 bottles of coke on the wall. \n",
      "\n",
      "12 bottles of coke on the wall, 12 bottles of coke. \n",
      "Take one down, pass it around, 11 bottles of coke on the wall. \n",
      "\n",
      "11 bottles of coke on the wall, 11 bottles of coke. \n",
      "Take one down, pass it around, 10 bottles of coke on the wall. \n",
      "\n",
      "10 bottles of coke on the wall, 10 bottles of coke. \n",
      "Take one down, pass it around, 9 bottles of coke on the wall. \n",
      "\n",
      "9 bottles of coke on the wall, 9 bottles of coke. \n",
      "Take one down, pass it around, 8 bottles of coke on the wall. \n",
      "\n",
      "8 bottles of coke on the wall, 8 bottles of coke. \n",
      "Take one down, pass it around, 7 bottles of coke on the wall. \n",
      "\n",
      "7 bottles of coke on the wall, 7 bottles of coke. \n",
      "Take one down, pass it around, 6 bottles of coke on the wall. \n",
      "\n",
      "6 bottles of coke on the wall, 6 bottles of coke. \n",
      "Take one down, pass it around, 5 bottles of coke on the wall. \n",
      "\n",
      "5 bottles of coke on the wall, 5 bottles of coke. \n",
      "Take one down, pass it around, 4 bottles of coke on the wall. \n",
      "\n",
      "4 bottles of coke on the wall, 4 bottles of coke. \n",
      "Take one down, pass it around, 3 bottles of coke on the wall. \n",
      "\n",
      "3 bottles of coke on the wall, 3 bottles of coke. \n",
      "Take one down, pass it around, 2 bottles of coke on the wall. \n",
      "\n",
      "2 bottles of coke on the wall, 2 bottles of coke. \n",
      "Take one down, pass it around, 1 bottles of coke on the wall. \n",
      "\n",
      "1 bottles of coke on the wall, 1 bottles of coke. \n",
      "Take one down, pass it around, 0 bottles of coke on the wall. \n",
      "\n",
      "Help on function bottles in module __main__:\n",
      "\n",
      "bottles()\n",
      "    Prints song verses of 99 bottles of Coke.\n",
      "    \n",
      "    Takes no variable as input and prints strings.\n",
      "\n"
     ]
    }
   ],
   "source": [
    "#HW3, Problem 8\n",
    "\n",
    "def bottles():\n",
    "    '''Prints song verses of 99 bottles of Coke.\n",
    "    \n",
    "    Takes no variable as input and prints strings.'''\n",
    "    i = 99          #Set bottle count to 99\n",
    "    while i != 0:   #While bottle count is not 0, print the verse with number variable placeholders (%d) reflecting current bottle counts before and after drinking 1 more bottle.\n",
    "        print('%d bottles of coke on the wall, %d bottles of coke. \\nTake one down, pass it around, %d bottles of coke on the wall. \\n' % (i,i,i-1))\n",
    "        i -=1       #Lower bottle count after drinking 1 bottle. \n",
    "bottles()\n",
    "\n"
   ]
  },
  {
   "cell_type": "code",
   "execution_count": 15,
   "metadata": {
    "collapsed": false
   },
   "outputs": [
    {
     "name": "stdout",
     "output_type": "stream",
     "text": [
      "['god', 'jul']\n"
     ]
    }
   ],
   "source": [
    "#HW3, Problem 9\n",
    "\n",
    "def translate(list):\n",
    "    '''Translates English words into Swedish words.\n",
    "    \n",
    "    Takes list (of words) and returns list (of words). Only words in the predefined dictionary can be translated.'''\n",
    "    lexicon = {\"merry\":\"god\", \"christmas\":\"jul\", \"and\":\"och\", \"happy\":\"gott\", \"new\":\"nytt\", \"year\":\"år\"} #Dictionary of English words with Swedish translations. \n",
    "    translated = []                          #Initialize empty list for translations\n",
    "    for word in list:                        #For each word in the list,\n",
    "        if word in lexicon:                   #if the word is in the dictionary as a key,\n",
    "            translated.append(lexicon[word])   #then append the translation to the translated list.\n",
    "    return translated         \n",
    "\n",
    "print(translate([\"merry\", \"christmas\"]))\n",
    "    "
   ]
  },
  {
   "cell_type": "code",
   "execution_count": 13,
   "metadata": {
    "collapsed": false
   },
   "outputs": [
    {
     "name": "stdout",
     "output_type": "stream",
     "text": [
      "{'d': 3, 'a': 7, 'c': 3, 'b': 14}\n"
     ]
    }
   ],
   "source": [
    "#HW3, Problem 10\n",
    "\n",
    "def char_freq(string):\n",
    "    '''Build dictionary counting frequency of characters.\n",
    "    \n",
    "    Takes string input and prints dictionary with keys representing the characters and key values corresponding to the frequency that character occurs in the string.'''\n",
    "    dict ={}                 #Initialize empty dictionary\n",
    "    for char in string:      #For each character in a string,\n",
    "        if char not in dict:  #if the character is not in the dictionary,\n",
    "            dict[char] = 1     #Set that character as key with value 1, which adds the character to the dictionary be association.\n",
    "        elif char in dict:    #if character is in the dictionary already,\n",
    "            dict[char] += 1    #increase its count by 1.\n",
    "    print(dict)\n",
    "\n",
    "char_freq(\"abbabcbdbabdbdbabababcbcbab\")\n"
   ]
  },
  {
   "cell_type": "code",
   "execution_count": 14,
   "metadata": {
    "collapsed": false
   },
   "outputs": [],
   "source": [
    "#HW3, Problem 11\n",
    "\n",
    "def ROT13(string):\n",
    "    '''Decodes or encodes a message based on Caesar Cipher.\n",
    "    \n",
    "    Takes string input and prints string. Caesar cipher shifts each letter 13 spaces to decode/encode a message.'''\n",
    "    key = {'a':'n', 'b':'o', 'c':'p', 'd':'q', 'e':'r', 'f':'s', 'g':'t', 'h':'u', 'i':'v', 'j':'w', 'k':'x', 'l':'y', 'm':'z', 'n':'a', 'o':'b', 'p':'c', 'q':'d', 'r':'e', 's':'f', 't':'g', 'u':'h', 'v':'i', 'w':'j', 'x':'k', 'y':'l', 'z':'m', 'A':'N', 'B':'O', 'C':'P', 'D':'Q', 'E':'R', 'F':'S', 'G':'T', 'H':'U', 'I':'V', 'J':'W', 'K':'X', 'L':'Y', 'M':'Z', 'N':'A', 'O':'B', 'P':'C', 'Q':'D', 'R':'E', 'S':'F', 'T':'G', 'U':'H', 'V':'I', 'W':'J', 'X':'K', 'Y':'L', 'Z':'M'}\n",
    "    result = \"\"        #After defining key, initialize empty string for resultant message\n",
    "    for char in string:          #For each character in the string, \n",
    "        if char in key:           #if the character is in the dictionary (if it's not punctuation or spacing), \n",
    "            result += key[char]    #then update the result with shifted letter to encode/decode\n",
    "        else:                     #otherwise (if it's punctuation or spacing),\n",
    "            result += char         #update the result with the exact punctuation or spacing\n",
    "    print(result)\n",
    "            \n",
    "ROT13(\"Pnrfne pvcure? V zhpu cersre Pnrfne fnynq!\")\n",
    "ROT13(\"Caesar cipher? I much prefer Caesar salad!\")"
   ]
  },
  {
   "cell_type": "code",
   "execution_count": 10,
   "metadata": {
    "collapsed": false
   },
   "outputs": [
    {
     "name": "stdout",
     "output_type": "stream",
     "text": [
      "This is very funny and cool. Indeed!\n"
     ]
    }
   ],
   "source": [
    "#HW3, Problem 12\n",
    "\n",
    "def correct(string):\n",
    "    '''Corrects spacing errors in a sentence.\n",
    "    \n",
    "    Takes a string input and prints string. Corrects the following:\n",
    "    1) Two or more occurrences of the space character is compressed into one, and \n",
    "    2) Inserts an extra space after a period if the period is directly followed by a letter. '''\n",
    "    corrected = \"\"                                   #Initialize empty string for corrected sentence.\n",
    "    i = 0                                            #Initialize counter.\n",
    "    while i < len(string):                           #While counter is less than string length,\n",
    "        if string[i] == \".\" and string[i+1] != \" \":   #if string indexed character a period and the next character is not a space,\n",
    "            corrected += \". \"                          #then update the corrected sentence by adding a space. \n",
    "            i += 1                                     #Update the counter.\n",
    "        elif string[i] == \" \":                        #if the indexed character is a space, \n",
    "            corrected += \" \"                           #First update the sentence with the space.\n",
    "            i += 1                                     #Update the counter.\n",
    "            while string[i] == \" \":                     #While the next character is a space, \n",
    "                corrected += \"\"                            #Replace with space with nothing in the corrected sentence.\n",
    "                i += 1                                     #Update the counter. At the end of this loop, only one space will be preserved in the corrected sentence between words\n",
    "        else:                                         #if the character is not period or string,\n",
    "            corrected += string[i]                     #Update the corrected sentence without changing the original character.\n",
    "            i += 1                                     #Update the counter.\n",
    "    print (corrected)  #After each action the counter is updated to reflect moving on through all characters of the original string.\n",
    "\n",
    "correct(\"This    is   very funny and cool.Indeed!\") \n",
    "\n",
    "    \n"
   ]
  },
  {
   "cell_type": "code",
   "execution_count": 11,
   "metadata": {
    "collapsed": false
   },
   "outputs": [],
   "source": [
    "#HW3, Problem 13\n",
    "\n",
    "def make_3sg_form(verb):\n",
    "    '''Heuristic method to conjugate infinitive verbs into 3rd person singular form.\n",
    "    \n",
    "    Takes string input and returns string. Only works on words'''\n",
    "    if verb[-1:] == \"y\":          #Isolating the last character of the word. If it is y,\n",
    "        verb = verb[:-1] + \"ies\"   #then third person singular form deletes y and adds ies. \n",
    "    elif verb[-1:] == \"o\" or verb[-1:] == \"s\" or verb[-1:] == \"x\" or verb[-1:] == \"z\" or verb[-2:] == \"ch\" or verb[-2:] == \"sh\":\n",
    "        verb += \"es\"              #If the last letter is o,s,x, or z, or last two letters are ch or sh, then third person singular form adds es.\n",
    "    else:                         #Otherwise, \n",
    "        verb += \"s\"                #verbs are updated with s to represent third person singular form.\n",
    "    return verb                   #Return updated verb.\n"
   ]
  },
  {
   "cell_type": "code",
   "execution_count": 7,
   "metadata": {
    "collapsed": false
   },
   "outputs": [
    {
     "name": "stdout",
     "output_type": "stream",
     "text": [
      "being\n",
      "fleeing\n",
      "happenning\n"
     ]
    }
   ],
   "source": [
    "#HW3, Problem 14\n",
    "\n",
    "def make_ing_form(verb):\n",
    "    '''Heuristic methods to conjugate infinitive verbs into present participle form.\n",
    "    \n",
    "    Takes string input and returns string. Only works on words'''\n",
    "    vowels = [\"a\", \"e\", \"i\", \"o\", \"u\"]        #Define vowels in list\n",
    "    if verb[-1:] == \"e\":                      #If last letter is e,\n",
    "        if verb[-2:] == \"ee\" or verb == \"be\":  #and if the last two letters are e or if the verb is be,\n",
    "            verb += \"ing\"                       #then just add ing.\n",
    "        else:                                  #and the above is not true,\n",
    "            verb = verb[:-1] + \"ing\"            #then update verb by taking all but the last letter (i.e., deleting e), and add ing.\n",
    "    elif verb[-2:] == \"ie\":                   #If the last two letters are ie,\n",
    "        verb = verb[:-2] + \"ying\"              #then update verb by taking all but the last 2 letters (i.e., deleting ie), and add ing.\n",
    "    elif verb[-3:-2] not in vowels and verb[-2:-1] in vowels and verb[-1:] not in vowels: #If last letter is not in vowels (i.e., consonant) and second last letter is a vowel and last letter is not a vowel, \n",
    "        verb += verb[-1:] + \"ing\"              #then update verb with the last letter (consonant) and add ing. \n",
    "    else:                                     #Otherwise, \n",
    "        verb += \"ing\"                          #update verb with ing.\n",
    "    return verb \n",
    "        "
   ]
  },
  {
   "cell_type": "code",
   "execution_count": null,
   "metadata": {
    "collapsed": true
   },
   "outputs": [],
   "source": []
  }
 ],
 "metadata": {
  "kernelspec": {
   "display_name": "Python 3",
   "language": "python",
   "name": "python3"
  },
  "language_info": {
   "codemirror_mode": {
    "name": "ipython",
    "version": 3
   },
   "file_extension": ".py",
   "mimetype": "text/x-python",
   "name": "python",
   "nbconvert_exporter": "python",
   "pygments_lexer": "ipython3",
   "version": "3.5.1"
  }
 },
 "nbformat": 4,
 "nbformat_minor": 0
}
