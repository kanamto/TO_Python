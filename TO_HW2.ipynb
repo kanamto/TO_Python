{
 "cells": [
  {
   "cell_type": "code",
   "execution_count": 33,
   "metadata": {
    "collapsed": false
   },
   "outputs": [
    {
     "name": "stdout",
     "output_type": "stream",
     "text": [
      "0\n",
      "1\n",
      "1\n",
      "2\n",
      "3\n",
      "5\n",
      "8\n",
      "13\n",
      "21\n",
      "34\n"
     ]
    }
   ],
   "source": [
    "#HW2, Problem 1: Fibonacci Sequence Calculator\n",
    "\n",
    "def fib(n): #function fib takes variable n (integer type)\n",
    "    fibo=[0,1]\n",
    "    i=0\n",
    "    while fibo[i] < n: #While loop comparing index of a vector to user input integer n\n",
    "        print (fibo[i]) #Prints integer of indexed position that is still (based on a true while loop) less than n\n",
    "        nextfibo = fibo[i] + fibo[i+1] #Establishies the next number in Fibonacci sequence.\n",
    "        i +=1 #up the counter to find the next Fibonacci sequence.\n",
    "        fibo.append(nextfibo) #Appends vector with next number of Fibonacci sequence. \n",
    "    # When n <= fibo[i], while loop stops.\n",
    "    \n",
    "fib(55)"
   ]
  },
  {
   "cell_type": "code",
   "execution_count": 22,
   "metadata": {
    "collapsed": false
   },
   "outputs": [
    {
     "name": "stdout",
     "output_type": "stream",
     "text": [
      "they're equal\n",
      "The largest is 3\n",
      "The largest is 4\n"
     ]
    }
   ],
   "source": [
    "#HW2, Problem 2: Max of Two \n",
    "\n",
    "def my_max(x,y): #function takes two variables, x and y (both integer type), and compares them.\n",
    "    a = \"The largest is %d\" #String statement with %d (string formatting) as a placeholder for double variable.\n",
    "    if x > y: #If x is bigger than y, then x is printed.\n",
    "        return a %(x)       #Define %d as variable x\n",
    "    elif x == y: #If x is equal to y, then the function prints that they're equal.\n",
    "        return \"they're equal\"\n",
    "    else: #If it's not the two possible outcomes above, then only y>x is left, so y is printed as the largest.\n",
    "        return a %(y)       #Define %d as variable y\n",
    "    \n",
    "print(my_max(0,0))\n",
    "print(my_max(3,0))\n",
    "print(my_max(0,4))\n"
   ]
  },
  {
   "cell_type": "code",
   "execution_count": 25,
   "metadata": {
    "collapsed": false
   },
   "outputs": [
    {
     "name": "stdout",
     "output_type": "stream",
     "text": [
      "The largest is 3\n",
      "The largest is 6\n",
      "The largest is 9\n",
      "The two largest are 1\n",
      "The two largest are 1\n",
      "The two largest are 1\n",
      "they're all equal\n"
     ]
    }
   ],
   "source": [
    "#HW2, Problem 3: Max of Three\n",
    "\n",
    "def max_of_three(x,y,z): #function takes three variables and compares them.\n",
    "    a = \"The largest is %d\" #String statement with %d (string formatting) as a placeholder for double variable.\n",
    "    b = \"The two largest are %d\" #Second scenario of comparing numbers. \n",
    "    if x > y: #If x>y...\n",
    "        if x > z: #...and x>z, then x is largest.\n",
    "            return a %(x)   #Define %d as variable x\n",
    "        elif x == z:#...and x=z, then the two are equally large. \n",
    "            return b %(x)\n",
    "    elif y > z: #If y>z...\n",
    "        if y > x: #...and y>x, then y is largest.\n",
    "            return a %(y)\n",
    "        elif y == x: #...and y=z, then the two are equally large. \n",
    "            return b %(y)\n",
    "    elif z > x:\n",
    "        if z > y: #...and z>y, then z is largest.\n",
    "            return a %(z)\n",
    "        elif y == z: #...and y=z, then the two are equally large.  \n",
    "            return b %(z)\n",
    "    else: #Otherwise, they're all equal.\n",
    "        return \"they're all equal\"\n",
    "    \n",
    "print(max_of_three(1,2,3)) #All combinations of possible outcomes when comparing three integers. \n",
    "print(max_of_three(6,5,4))\n",
    "print(max_of_three(7,9,8))\n",
    "print(max_of_three(1,1,0))\n",
    "print(max_of_three(0,1,1))\n",
    "print(max_of_three(1,0,1))\n",
    "print(max_of_three(0,0,0))"
   ]
  },
  {
   "cell_type": "code",
   "execution_count": 26,
   "metadata": {
    "collapsed": false
   },
   "outputs": [
    {
     "name": "stdout",
     "output_type": "stream",
     "text": [
      "3\n",
      "3\n"
     ]
    }
   ],
   "source": [
    "#HW2, Problem 4: List or String Length\n",
    "\n",
    "def mylen(a): #Function takes variable a (vector,list, or string type)\n",
    "    i = 0 #initialize counter variable, i (integer type) at 0\n",
    "    for n in a: #For each value stored in each index position:\n",
    "        i+=1    #Increase the counter i by 1\n",
    "    return i   #When loop is done, all items of the vector/list/string is counted once, totaling the number (or length) of the value in a. \n",
    "     \n",
    "print(mylen([1,2,3])) #Testing vector\n",
    "print(mylen(\"Dog\"))   #Testing string     "
   ]
  },
  {
   "cell_type": "code",
   "execution_count": 27,
   "metadata": {
    "collapsed": false
   },
   "outputs": [
    {
     "name": "stdout",
     "output_type": "stream",
     "text": [
      "True\n",
      "False\n"
     ]
    }
   ],
   "source": [
    "#HW2, Problem 5: Vowels or Consonants\n",
    "\n",
    "def vowel(letter): #Function taking a single letter (string type) and identifying vowels (or not)\n",
    "    if letter == \"a\" or letter == \"e\" or letter == \"i\" or letter == \"o\" or letter == \"u\": #Combination of or-logic makes the statement true if any single statement is true. Therefore, if the letter is equal to any of the vowels...\n",
    "        return True #... then it's a vowel.\n",
    "    else:           #If it's not a vowel, it's a consonant.\n",
    "        return False \n",
    "           \n",
    "print(vowel(\"e\"))\n",
    "print(vowel(\"f\"))"
   ]
  },
  {
   "cell_type": "code",
   "execution_count": 30,
   "metadata": {
    "collapsed": false
   },
   "outputs": [
    {
     "name": "stdout",
     "output_type": "stream",
     "text": [
      "hohelollolo hoholola\n"
     ]
    }
   ],
   "source": [
    "#HW2, Problem 6: Translate\n",
    "\n",
    "def translate(string): #Function taking string (string type) and counting vowels twice.\n",
    "    word = \"\" #Initialize output as empty string.\n",
    "    for letter in string: #For each letter (value in indexed position starting at 0) in string....\n",
    "        if letter == \"a\" or letter == \"e\" or letter == \"i\" or letter == \"o\" or letter == \"u\" or letter == \" \" : \n",
    "            word += letter #...adds the character to the string if it's a vowel or a space using combined or-logic statement above\n",
    "        else:\n",
    "            word += letter + \"o\" + letter #...or if it's not a vowel or space (therefore a consonant), then add the letter twice with an O between.\n",
    "    return word #After all letters in the string are scanned once, the output will be the translated word\n",
    "    \n",
    "print(translate(\"hello hola\"))\n"
   ]
  },
  {
   "cell_type": "code",
   "execution_count": 31,
   "metadata": {
    "collapsed": false
   },
   "outputs": [
    {
     "name": "stdout",
     "output_type": "stream",
     "text": [
      "10\n",
      "24\n"
     ]
    }
   ],
   "source": [
    "#HW2, Problem 7: Sum and Multiply (of Lists)\n",
    "\n",
    "def sum(a): #Function to sum all numbers in variable a (list type).\n",
    "    b=0     #Initialize at 0 because we do not want whatever stored in b to affect the sum\n",
    "    for n in a: #For each value of n (indexed value) of vector a \n",
    "        b+=n    #Add the indexed value (assumed to be a number) to b\n",
    "    return b   #Return the total, which is the sum of all indexed values \n",
    "\n",
    "def multiply(a): #Function to multiply all numbers in variable a (list type).\n",
    "    b=1          #Initialize at 1 because initializing at 0 would only return 0 \n",
    "    for n in a:  #For each value (assumed to be a number type) of n (indexed value) of vector a\n",
    "        b*=n     #Multiply the indexed value (assumed to be a number) with the existing value of b\n",
    "    return b    #Return the total, which is the product of all indexed values \n",
    "\n",
    "print(sum([1,2,3,4]))\n",
    "print(multiply([1,2,3,4]))"
   ]
  },
  {
   "cell_type": "code",
   "execution_count": 32,
   "metadata": {
    "collapsed": false,
    "scrolled": true
   },
   "outputs": [
    {
     "name": "stdout",
     "output_type": "stream",
     "text": [
      "eohsesroh\n",
      "?taht si tahw\n"
     ]
    }
   ],
   "source": [
    "#HW2, Problem 8: esreveR \n",
    "\n",
    "def reverse(string): #Function to reverse \"string\" (string type).\n",
    "    esrever = \"\"     #Initialize empty string for reverse.\n",
    "    b = len(string)-1 #String length - 1 represents the position of the last indexed character in the string (because python indexes at 0)\n",
    "    while b+1 > 0:    #Starting while loop at b+1 because we want the loop to run as many times as there are letters in \"string\" \n",
    "        esrever += string[b] #Add the last letter of \"string\" to the \"esrever\" variable \n",
    "        b-=1                 #Move 1 index position towards the first character of \"string\"\n",
    "    return esrever    #when b=0, the loop will have run through all the letters, and return the reverse of the \"string\" value.   \n",
    "    \n",
    "print(reverse(\"horseshoe\"))\n",
    "print(reverse(\"what is that?\"))\n",
    "\n"
   ]
  },
  {
   "cell_type": "code",
   "execution_count": 33,
   "metadata": {
    "collapsed": false
   },
   "outputs": [
    {
     "name": "stdout",
     "output_type": "stream",
     "text": [
      "True\n",
      "False\n"
     ]
    }
   ],
   "source": [
    "#HW2, Problem 9: Palindromes \n",
    "\n",
    "def is_Palindrome(string): #Function to identify palindromes in \"string\" (string type).\n",
    "    grints = \"\"            #Set reverse of string as empty string\n",
    "    b = len(string)-1      #Set counter to 1 less than the length (last indexed position of the string)\n",
    "    while b+1 > 0:         #Reverse the string value and saves to variable grints\n",
    "        grints += string[b]\n",
    "        b-=1\n",
    "    if string == grints:   #If reverse is identical to original string, then return true (is a palindrome)\n",
    "        return True\n",
    "    else:                  #If not, return false (not a palindrome)\n",
    "        return False\n",
    "    \n",
    "print(is_Palindrome(\"amanaplanacanalpanama\"))\n",
    "print(is_Palindrome(\"horsehoe\"))"
   ]
  },
  {
   "cell_type": "code",
   "execution_count": 36,
   "metadata": {
    "collapsed": false
   },
   "outputs": [
    {
     "name": "stdout",
     "output_type": "stream",
     "text": [
      "True\n",
      "True\n",
      "False\n"
     ]
    }
   ],
   "source": [
    "#HW2, Problem 10: Are you a member?\n",
    "\n",
    "def is_member(x): #Function to check variable x (any type) against values in a list.\n",
    "    a = [\"georgetown\",\"pilcher\",\"math\", 510, 25.4] #Predefine a membership list for comparison.\n",
    "    result = 0    #Set function output to 0 (assumes not a member until proven otherwise)\n",
    "    for n in a:   #For each value in vector a,...\n",
    "        if n == x:     #... if the value, n, is equal to x, \n",
    "            result = 1     # set counter to 1 (meaning the outcome is true everytime a match is found)\n",
    "        else:          #... if the value is not equal, \n",
    "            result += 0    # add 0 to the counter (which does not affect the counter if it already 0 or 1). The counter is not affected by any instance where there is no match.\n",
    "    return bool(result) #If there is at least 1 match (anywhere in the list), result = 1, and boolean of 1 is True. Otherwise, result = 0 and boolean is False.\n",
    "    \n",
    "print(is_member(\"math\"))\n",
    "print(is_member(25.4))\n",
    "print(is_member(\"whatever\"))"
   ]
  },
  {
   "cell_type": "code",
   "execution_count": 37,
   "metadata": {
    "collapsed": false
   },
   "outputs": [
    {
     "name": "stdout",
     "output_type": "stream",
     "text": [
      "False\n",
      "True\n"
     ]
    }
   ],
   "source": [
    "#HW2, Problem 11: Checking for Overlap\n",
    "\n",
    "def overlapping(x,y): #Function takes two variables, x and y (both list type), and compares values in them.\n",
    "    result = 0  #Set result to no match (0) until proven otherwise\n",
    "    for n in x: #For each value in list x...\n",
    "        for m in y: #...take each value in list y\n",
    "            if n == m: #If the two are equal...\n",
    "                result = 1 #...then result is equal to 1 (meaning true, there's at least 1 match)\n",
    "            else:      #Otherwise, there are no matches...\n",
    "                result += 0 #... and the result value is not affected whenever there are no matches\n",
    "    return bool(result) #If you can prove there is overlap (because result initially is 0, meaning no matches), then true is returned. \n",
    "\n",
    "print(overlapping([1,2,3,4],[0,9,8,7,6,5]))\n",
    "print(overlapping([1,2,3,4],[0,9,8,7,6,4]))"
   ]
  },
  {
   "cell_type": "code",
   "execution_count": 38,
   "metadata": {
    "collapsed": false
   },
   "outputs": [
    {
     "name": "stdout",
     "output_type": "stream",
     "text": [
      "charcharcharcharchar\n"
     ]
    }
   ],
   "source": [
    "#HW2, Problem 12: Generate Characters\n",
    "\n",
    "def generate_n_chars(n,c): #function takes n (integer type) and c (character type) to create a new string.\n",
    "    m = 0  #Initialize counter to 0\n",
    "    d = \"\" #Initialize new empty string\n",
    "    while m < n: #While counter is less than the number (because I should not simplify this loop with a multiplication of variables expression), \n",
    "        d += c   #variable c is concatenated onto new string d.  \n",
    "        m += 1   #loop runs five times since m starts at 0 (0, 1, 2, 3, 4)\n",
    "    return d     #resultant new string d is a string c repeated n times  \n",
    "\n",
    "print(generate_n_chars(5,\"char\"))"
   ]
  },
  {
   "cell_type": "code",
   "execution_count": null,
   "metadata": {
    "collapsed": true
   },
   "outputs": [],
   "source": []
  }
 ],
 "metadata": {
  "kernelspec": {
   "display_name": "Python 3",
   "language": "python",
   "name": "python3"
  },
  "language_info": {
   "codemirror_mode": {
    "name": "ipython",
    "version": 3
   },
   "file_extension": ".py",
   "mimetype": "text/x-python",
   "name": "python",
   "nbconvert_exporter": "python",
   "pygments_lexer": "ipython3",
   "version": "3.5.1"
  }
 },
 "nbformat": 4,
 "nbformat_minor": 0
}
